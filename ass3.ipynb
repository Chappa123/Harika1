{
 "cells": [
  {
   "cell_type": "markdown",
   "metadata": {},
   "source": []
  },
  {
   "cell_type": "code",
   "execution_count": 13,
   "metadata": {},
   "outputs": [
    {
     "name": "stderr",
     "output_type": "stream",
     "text": [
      "/home/quantiphi/anaconda/lib/python3.6/site-packages/pandas/core/indexing.py:179: SettingWithCopyWarning: \n",
      "A value is trying to be set on a copy of a slice from a DataFrame\n",
      "\n",
      "See the caveats in the documentation: http://pandas.pydata.org/pandas-docs/stable/indexing.html#indexing-view-versus-copy\n",
      "  self._setitem_with_indexer(indexer, value)\n"
     ]
    },
    {
     "name": "stdout",
     "output_type": "stream",
     "text": [
      "Accuracy for decision tree using gini index:  68.25396825396825\n",
      "Accuracy for decision tree using entropy:  66.66666666666666\n",
      "Accuracy for random forest: 79.36507936507937\n",
      "Accuracy for SVC:  77.77777777777779\n"
     ]
    },
    {
     "name": "stderr",
     "output_type": "stream",
     "text": [
      "/home/quantiphi/anaconda/lib/python3.6/site-packages/sklearn/model_selection/_search.py:813: DeprecationWarning: The default of the `iid` parameter will change from True to False in version 0.22 and will be removed in 0.24. This will change numeric results when test-set sizes are unequal.\n",
      "  DeprecationWarning)\n"
     ]
    },
    {
     "name": "stdout",
     "output_type": "stream",
     "text": [
      "Accuracy for decision tree using gini index on CV data:  0.6825396825396826\n"
     ]
    },
    {
     "name": "stderr",
     "output_type": "stream",
     "text": [
      "/home/quantiphi/anaconda/lib/python3.6/site-packages/sklearn/model_selection/_search.py:813: DeprecationWarning: The default of the `iid` parameter will change from True to False in version 0.22 and will be removed in 0.24. This will change numeric results when test-set sizes are unequal.\n",
      "  DeprecationWarning)\n"
     ]
    },
    {
     "name": "stdout",
     "output_type": "stream",
     "text": [
      "Accuracy for for decision tree using entropy on CV data:  0.6984126984126984\n"
     ]
    },
    {
     "name": "stderr",
     "output_type": "stream",
     "text": [
      "/home/quantiphi/anaconda/lib/python3.6/site-packages/sklearn/model_selection/_search.py:813: DeprecationWarning: The default of the `iid` parameter will change from True to False in version 0.22 and will be removed in 0.24. This will change numeric results when test-set sizes are unequal.\n",
      "  DeprecationWarning)\n"
     ]
    },
    {
     "name": "stdout",
     "output_type": "stream",
     "text": [
      "Accuracy for Random Forest on CV data:  0.8095238095238095\n",
      "Accuracy for SVC on CV data:  0.8888888888888888\n"
     ]
    },
    {
     "name": "stderr",
     "output_type": "stream",
     "text": [
      "/home/quantiphi/anaconda/lib/python3.6/site-packages/sklearn/model_selection/_search.py:813: DeprecationWarning: The default of the `iid` parameter will change from True to False in version 0.22 and will be removed in 0.24. This will change numeric results when test-set sizes are unequal.\n",
      "  DeprecationWarning)\n"
     ]
    }
   ],
   "source": [
    "# import numpy as np\n",
    "import matplotlib.pyplot as plt\n",
    "import pandas as pd\n",
    "from sklearn.ensemble import *\n",
    "from sklearn.model_selection import train_test_split\n",
    "from sklearn.tree import DecisionTreeClassifier\n",
    "from sklearn.metrics import accuracy_score\n",
    "from sklearn.svm import SVC\n",
    "from sklearn import tree\n",
    "from sklearn.model_selection import GridSearchCV\n",
    "df = pd.read_csv(\"sonarall.txt\",delimiter=',',header =None)\n",
    "X=df.iloc[:,0:59]\n",
    "Y=df.iloc[:,-1]\n",
    "#print(X)\n",
    "#print(Y)\n",
    "Y.iloc[:97]='0'\n",
    "Y.iloc[97:208]='1'\n",
    "#SPlitting of DataSet\n",
    "X_train, X_test, y_train, y_test = train_test_split( X, Y, test_size = 0.3, random_state = 100)\n",
    "#Decision Tree using gini index\n",
    "clf_gini = DecisionTreeClassifier(criterion = \"gini\", random_state = 100)\n",
    "clf_gini.fit(X_train, y_train)\n",
    "y_pred=clf_gini.predict(X_test)\n",
    "k= accuracy_score(y_test,y_pred)*100\n",
    "print(\"Accuracy for decision tree using gini index: \",k)\n",
    "#Decision Tree using entropy\n",
    "clf_entropy = DecisionTreeClassifier(criterion = \"entropy\", random_state = 100)\n",
    "clf_entropy.fit(X_train, y_train)\n",
    "y_pred=clf_entropy.predict(X_test)\n",
    "l=accuracy_score(y_test,y_pred)*100\n",
    "print(\"Accuracy for decision tree using entropy: \",l)\n",
    "#Randomforest classifier\n",
    "clf_random = RandomForestClassifier(n_estimators=100,max_depth=2,random_state=40)\n",
    "clf_random.fit(X_train,y_train)\n",
    "y_pred=clf_random.predict(X_test)\n",
    "m=accuracy_score(y_test,y_pred)*100\n",
    "print(\"Accuracy for random forest:\",m)\n",
    "#SVC classifier\n",
    "clf_svm= SVC(gamma='scale')\n",
    "clf_svm.fit(X_train,y_train)\n",
    "y_pred = clf_svm.predict(X_test)\n",
    "print(\"Accuracy for SVC: \",accuracy_score(y_test,y_pred)*100)\n",
    "\n",
    "#Decision Tree on CV data using gini index\n",
    "param_grid = [{'max_depth':np.arange(1, 21), 'random_state':[25, 50, 75, 100, 125, 150, 175, 200],\n",
    "              'min_samples_leaf':[1, 5, 10, 20, 50, 100]}]\n",
    "CV_dt = GridSearchCV(estimator=clf_gini, param_grid=param_grid, cv=10)\n",
    "CV_dt.fit(X_train, y_train)\n",
    "CV_dt.best_params_\n",
    "gini1 = DecisionTreeClassifier(criterion = \"gini\", random_state = 175,max_depth= 6,min_samples_leaf=1)\n",
    "gini1.fit(X_train, y_train)\n",
    "y_pred3=gini1.predict(X_test)\n",
    "print(\"Accuracy for decision tree using gini index on CV data: \",accuracy_score(y_test,y_pred3))\n",
    "\n",
    "#Decision Tree on CV data using entropy\n",
    "param_grid = [{'max_depth':np.arange(1, 21), 'random_state':[25, 50, 75, 100, 125, 150, 175, 200],\n",
    "              'min_samples_leaf':[1, 5, 10, 20, 50, 100]}]\n",
    "CV_dte = GridSearchCV(estimator=clf_entropy, param_grid=param_grid, cv=5)\n",
    "CV_dte.fit(X_train, y_train)\n",
    "CV_dte.best_params_\n",
    "entropy1 = DecisionTreeClassifier(criterion = \"entropy\", random_state = 75,max_depth= 6,min_samples_leaf=1)\n",
    "entropy1.fit(X_train, y_train)\n",
    "y_pred4=entropy1.predict(X_test)\n",
    "print(\"Accuracy for for decision tree using entropy on CV data: \",accuracy_score(y_test,y_pred4))\n",
    "\n",
    "\n",
    "#random Forest on CV data\n",
    "param_grid = { \n",
    "    'n_estimators': [200, 500],\n",
    "    'max_features': ['auto', 'sqrt', 'log2'],\n",
    "    'max_depth' : [4,5,6,7,8],\n",
    "    'criterion' :['gini', 'entropy']\n",
    "}\n",
    "CV_rfc = GridSearchCV(estimator=clf_random, param_grid=param_grid, cv= 5)\n",
    "CV_rfc.fit(X_train, y_train)\n",
    "CV_rfc.best_params_\n",
    "rfc1=RandomForestClassifier(random_state=40, max_features='auto', n_estimators= 200, max_depth=8, criterion='gini')\n",
    "rfc1.fit(X_train, y_train)\n",
    "y_pred1=rfc1.predict(X_test)\n",
    "print(\"Accuracy for Random Forest on CV data: \",accuracy_score(y_test,y_pred1))\n",
    "\n",
    "#SVC on CV data\n",
    "param_grid = {'C': [0.001, 0.01, 0.1, 1, 10], 'gamma' : [0.001, 0.01, 0.1, 1]}\n",
    "CV_svm = GridSearchCV(clf_svm, param_grid, cv=5)\n",
    "CV_svm.fit(X_train, y_train)\n",
    "CV_svm.best_params_\n",
    "svm1 = SVC(C=10, gamma = 1)\n",
    "svm1.fit(X_train, y_train)\n",
    "y_pred2=svm1.predict(X_test)\n",
    "print(\"Accuracy for SVC on CV data: \",accuracy_score(y_test,y_pred2))\n",
    "\n",
    "\n",
    "\n",
    "\n"
   ]
  }
 ],
 "metadata": {
  "kernelspec": {
   "display_name": "Python 3",
   "language": "python",
   "name": "python3"
  },
  "language_info": {
   "codemirror_mode": {
    "name": "ipython",
    "version": 3
   },
   "file_extension": ".py",
   "mimetype": "text/x-python",
   "name": "python",
   "nbconvert_exporter": "python",
   "pygments_lexer": "ipython3",
   "version": "3.6.3"
  }
 },
 "nbformat": 4,
 "nbformat_minor": 2
}
